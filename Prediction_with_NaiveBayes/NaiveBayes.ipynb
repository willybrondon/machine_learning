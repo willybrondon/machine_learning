{
 "cells": [
  {
   "cell_type": "markdown",
   "metadata": {},
   "source": [
    "# Predict if you are a man or a woman #\n",
    "\n",
    "In this project, a csv file is given with some parameters on men and women ( Weight, Height, and Foot Size ). \n",
    "Goal is to create by a Hand a predictor using Naive Bayes Algorithm to predict according your weight, height and foot size if you are a woman or a man "
   ]
  },
  {
   "cell_type": "markdown",
   "metadata": {},
   "source": [
    "## 1. Import the data ##"
   ]
  },
  {
   "cell_type": "code",
   "execution_count": 1,
   "metadata": {},
   "outputs": [
    {
     "name": "stdout",
     "output_type": "stream",
     "text": [
      "    Kind     Weight      Height       Foot\n",
      "0    Man  79.749884  172.395285  46.432847\n",
      "1  Woman  63.855890  170.188748  38.641977\n",
      "2  Woman  56.042058  173.919582  37.837693\n",
      "3  Woman  68.130999  169.193675  43.137448\n",
      "4  Woman  55.315009  159.286487  37.285856\n"
     ]
    },
    {
     "data": {
      "text/plain": [
       "(35, 4)"
      ]
     },
     "execution_count": 1,
     "metadata": {},
     "output_type": "execute_result"
    }
   ],
   "source": [
    "import numpy as np\n",
    "import matplotlib.pyplot as plt\n",
    "import pandas as pd\n",
    "\n",
    "df = pd.read_csv('./data/man_woman.csv')\n",
    "print(df.head())\n",
    "df.shape"
   ]
  },
  {
   "cell_type": "markdown",
   "metadata": {},
   "source": [
    "## 2. Visualize data ##\n",
    "Create a scatter plot for each feature against kind of people"
   ]
  },
  {
   "cell_type": "code",
   "execution_count": 2,
   "metadata": {},
   "outputs": [
    {
     "data": {
      "image/png": "[encoded data removed]",
      "text/plain": [
       "<Figure size 432x288 with 3 Axes>"
      ]
     },
     "metadata": {
      "needs_background": "light"
     },
     "output_type": "display_data"
    }
   ],
   "source": [
    "cs = ['red' if i == \"Man\" else 'green' for i in df['Kind']]\n",
    "\n",
    "plt.figure()\n",
    "plt.tight_layout()\n",
    "plt.subplot(1,3,1)\n",
    "plt.scatter(df['Kind'], df['Weight'], color=cs)\n",
    "plt.subplot(1,3,2)\n",
    "plt.scatter(df['Kind'], df['Height'], color=cs)\n",
    "plt.subplot(1,3,3)\n",
    "plt.scatter(df['Kind'], df['Foot'], color=cs)\n",
    "plt.show()"
   ]
  },
  {
   "cell_type": "markdown",
   "metadata": {},
   "source": [
    "## 2. Estimate prior probability to be a man $p(man)$ or a woman $p(woman)$ ##\n",
    "### 2.a pivot table ###"
   ]
  },
  {
   "cell_type": "markdown",
   "metadata": {},
   "source": [
    "Create a __pivot_table__ named **pivot** that uses 'Kind' column as index for the values of Weight, Height and Foot size. This table should show for each kind (man or woman) and all values: number of elements, mean and standard deviation.\n",
    "\n",
    "__hint:__ use numpy count_nonzero, mean and std as aggregate functions for the pivot table"
   ]
  },
  {
   "cell_type": "code",
   "execution_count": 3,
   "metadata": {},
   "outputs": [
    {
     "data": {
      "text/html": [
       "<div>\n",
       "<style scoped>\n",
       "    .dataframe tbody tr th:only-of-type {\n",
       "        vertical-align: middle;\n",
       "    }\n",
       "\n",
       "    .dataframe tbody tr th {\n",
       "        vertical-align: top;\n",
       "    }\n",
       "\n",
       "    .dataframe thead tr th {\n",
       "        text-align: left;\n",
       "    }\n",
       "\n",
       "    .dataframe thead tr:last-of-type th {\n",
       "        text-align: right;\n",
       "    }\n",
       "</style>\n",
       "<table border=\"1\" class=\"dataframe\">\n",
       "  <thead>\n",
       "    <tr>\n",
       "      <th></th>\n",
       "      <th colspan=\"3\" halign=\"left\">count_nonzero</th>\n",
       "      <th colspan=\"3\" halign=\"left\">mean</th>\n",
       "      <th colspan=\"3\" halign=\"left\">std</th>\n",
       "    </tr>\n",
       "    <tr>\n",
       "      <th></th>\n",
       "      <th>Foot</th>\n",
       "      <th>Height</th>\n",
       "      <th>Weight</th>\n",
       "      <th>Foot</th>\n",
       "      <th>Height</th>\n",
       "      <th>Weight</th>\n",
       "      <th>Foot</th>\n",
       "      <th>Height</th>\n",
       "      <th>Weight</th>\n",
       "    </tr>\n",
       "    <tr>\n",
       "      <th>Kind</th>\n",
       "      <th></th>\n",
       "      <th></th>\n",
       "      <th></th>\n",
       "      <th></th>\n",
       "      <th></th>\n",
       "      <th></th>\n",
       "      <th></th>\n",
       "      <th></th>\n",
       "      <th></th>\n",
       "    </tr>\n",
       "  </thead>\n",
       "  <tbody>\n",
       "    <tr>\n",
       "      <th>Man</th>\n",
       "      <td>15.0</td>\n",
       "      <td>15.0</td>\n",
       "      <td>15.0</td>\n",
       "      <td>42.721625</td>\n",
       "      <td>171.587765</td>\n",
       "      <td>79.786517</td>\n",
       "      <td>2.121678</td>\n",
       "      <td>13.188299</td>\n",
       "      <td>15.061624</td>\n",
       "    </tr>\n",
       "    <tr>\n",
       "      <th>Woman</th>\n",
       "      <td>20.0</td>\n",
       "      <td>20.0</td>\n",
       "      <td>20.0</td>\n",
       "      <td>39.209197</td>\n",
       "      <td>165.311617</td>\n",
       "      <td>59.898566</td>\n",
       "      <td>1.875164</td>\n",
       "      <td>8.933814</td>\n",
       "      <td>6.891315</td>\n",
       "    </tr>\n",
       "  </tbody>\n",
       "</table>\n",
       "</div>"
      ],
      "text/plain": [
       "      count_nonzero                     mean                              std  \\\n",
       "               Foot Height Weight       Foot      Height     Weight      Foot   \n",
       "Kind                                                                            \n",
       "Man            15.0   15.0   15.0  42.721625  171.587765  79.786517  2.121678   \n",
       "Woman          20.0   20.0   20.0  39.209197  165.311617  59.898566  1.875164   \n",
       "\n",
       "                             \n",
       "          Height     Weight  \n",
       "Kind                         \n",
       "Man    13.188299  15.061624  \n",
       "Woman   8.933814   6.891315  "
      ]
     },
     "execution_count": 3,
     "metadata": {},
     "output_type": "execute_result"
    }
   ],
   "source": [
    "## Create pivot_table pivot\n",
    "pivot = df.pivot_table(index ='Kind',values = ['Weight','Height','Foot'], aggfunc=[np.count_nonzero,'mean','std'])\n",
    "pivot"
   ]
  },
  {
   "cell_type": "code",
   "execution_count": 4,
   "metadata": {},
   "outputs": [
    {
     "data": {
      "text/plain": [
       "15.0"
      ]
     },
     "execution_count": 4,
     "metadata": {},
     "output_type": "execute_result"
    }
   ],
   "source": [
    "pivot['count_nonzero'].loc['Man','Foot']\n"
   ]
  },
  {
   "cell_type": "markdown",
   "metadata": {},
   "source": [
    "Computes from this table probability of being a man or a woman. We assume Men/Women ratio in this file is sampled against real proportions."
   ]
  },
  {
   "cell_type": "code",
   "execution_count": 5,
   "metadata": {},
   "outputs": [
    {
     "name": "stdout",
     "output_type": "stream",
     "text": [
      "number of men 15\n"
     ]
    }
   ],
   "source": [
    "n_men = int(pivot['count_nonzero'].loc['Man','Foot'])\n",
    "\n",
    "print(\"number of men\", n_men)"
   ]
  },
  {
   "cell_type": "code",
   "execution_count": 6,
   "metadata": {},
   "outputs": [
    {
     "name": "stdout",
     "output_type": "stream",
     "text": [
      "number of women 20\n"
     ]
    }
   ],
   "source": [
    "n_women =  int(pivot['count_nonzero'].loc['Woman','Foot'])\n",
    "\n",
    "print(\"number of women\", n_women)"
   ]
  },
  {
   "cell_type": "code",
   "execution_count": 7,
   "metadata": {},
   "outputs": [
    {
     "name": "stdout",
     "output_type": "stream",
     "text": [
      "probability of being a man 0.42857142857142855\n",
      "probability of being a woman 0.5714285714285714\n",
      "sum of the two probability 1.0\n"
     ]
    }
   ],
   "source": [
    "n_men_women = n_men + n_women\n",
    "p_man =  n_men/n_men_women\n",
    "p_woman =  n_women/n_men_women\n",
    "\n",
    "print(\"probability of being a man\", p_man)\n",
    "print(\"probability of being a woman\", p_woman)\n",
    "\n",
    "# for checking\n",
    "print('sum of the two probability', p_man+p_woman)"
   ]
  },
  {
   "cell_type": "markdown",
   "metadata": {},
   "source": [
    "### 2.b What are the probability law followed by each features given man or women ###\n",
    "\n",
    "In this part, we try to estimate the laws followed by: $p(w|man), p(h|man), p(f|man)$, and the same for the woman.\n",
    "In Bayesian Naive Classifiers, this laws are meant to be Gaussian.\n",
    "\n",
    "Defines 6 python methods p_w_man, p_h_man,... that corresponsds to probability density function for these 6 laws.\n",
    "\n",
    "We can use **scipy.stats.norm** and parameters from previous pivot_table\n"
   ]
  },
  {
   "cell_type": "code",
   "execution_count": 8,
   "metadata": {},
   "outputs": [
    {
     "data": {
      "text/plain": [
       "<scipy.stats._distn_infrastructure.rv_frozen at 0x280d53a15b0>"
      ]
     },
     "execution_count": 8,
     "metadata": {},
     "output_type": "execute_result"
    }
   ],
   "source": [
    "from scipy.stats import norm\n",
    "\n",
    "## construct p_w_man, p_h_man, p_f_man, p_w_woman, p_h_woman, p_f_woman\n",
    "\n",
    "p_w_man = norm(pivot['mean'].loc['Man','Weight'],  pivot['std'].loc['Man','Weight'])\n",
    "p_h_man = norm(pivot['mean'].loc['Man','Height'],  pivot['std'].loc['Man','Height'])\n",
    "p_f_man = norm(pivot['mean'].loc['Man','Foot'],  pivot['std'].loc['Man','Foot'])\n",
    "\n",
    "               \n",
    "p_w_woman = norm(pivot['mean'].loc['Woman','Weight'],  pivot['std'].loc['Woman','Weight'])\n",
    "p_h_woman = norm(pivot['mean'].loc['Woman','Height'],  pivot['std'].loc['Woman','Height']) \n",
    "p_f_woman = norm(pivot['mean'].loc['Woman','Foot'],  pivot['std'].loc['Woman','Foot'])\n",
    "p_w_man "
   ]
  },
  {
   "cell_type": "code",
   "execution_count": 9,
   "metadata": {},
   "outputs": [
    {
     "data": {
      "text/plain": [
       "<scipy.stats._distn_infrastructure.rv_frozen at 0x280d42945e0>"
      ]
     },
     "execution_count": 9,
     "metadata": {},
     "output_type": "execute_result"
    }
   ],
   "source": [
    "norm()"
   ]
  },
  {
   "cell_type": "markdown",
   "metadata": {},
   "source": [
    "In the following cell, the method __draw_probability_law__ let you verify the methods you just defined. Play with Gender and Parameter to see if your probabily laws seem correct."
   ]
  },
  {
   "cell_type": "code",
   "execution_count": 10,
   "metadata": {},
   "outputs": [
    {
     "data": {
      "image/png": "[encoded data removed]",
      "text/plain": [
       "<Figure size 432x288 with 1 Axes>"
      ]
     },
     "metadata": {
      "needs_background": "light"
     },
     "output_type": "display_data"
    }
   ],
   "source": [
    "def draw_probability_law(gender, parameter):\n",
    "    if parameter == 'Weight':\n",
    "        vals = (20, 150)\n",
    "        if gender == 'Man':\n",
    "            law = p_w_man\n",
    "        else:\n",
    "            law = p_w_woman\n",
    "    elif parameter == 'Height':\n",
    "        vals = (100, 210)\n",
    "        if gender == 'Man':\n",
    "            law = p_h_man\n",
    "        else:\n",
    "            law = p_h_woman\n",
    "    else:\n",
    "        vals = (35, 50)\n",
    "        if gender == 'Man':\n",
    "            law = p_f_man\n",
    "        else:\n",
    "            law = p_f_woman\n",
    "        \n",
    "\n",
    "    paremeters = np.linspace(vals[0], vals[1], 40)\n",
    "    probas = [law.pdf(w) for w in paremeters]\n",
    "\n",
    "    values = df[df['Kind'] == gender][parameter]\n",
    "\n",
    "    cst = [ np.mean(probas) for w in values]\n",
    "\n",
    "    plt.plot(paremeters, probas)\n",
    "    plt.scatter(values, cst)\n",
    "    \n",
    "## Example\n",
    "draw_probability_law(\"Woman\", \"Foot\")"
   ]
  },
  {
   "cell_type": "markdown",
   "metadata": {},
   "source": [
    "### 2.c Computes likelihood for each feature for each kind ###\n",
    " 1. Select a tuple (w, h, f) representing your weight, height and foot size.\n",
    " 2. Then computes for this tuple the likelihood $p(w,h,f|man)$ if you are a man or $p(w,h,f|woman)$\n",
    " \n",
    "In Naive Bayes Classifier, independance of the variables is assumed"
   ]
  },
  {
   "cell_type": "code",
   "execution_count": 14,
   "metadata": {},
   "outputs": [],
   "source": [
    "m_data= { \"w\" :80, \"h\" : 188, \"f\" : 43  } # I am a man\n",
    "w_data = { \"w\": 50, \"h\" : 172, \"f\" : 40 } # I am a woman\n"
   ]
  },
  {
   "cell_type": "code",
   "execution_count": 15,
   "metadata": {},
   "outputs": [
    {
     "data": {
      "text/plain": [
       "6.885249559649976e-05"
      ]
     },
     "execution_count": 15,
     "metadata": {},
     "output_type": "execute_result"
    }
   ],
   "source": [
    "likelihood_man = p_w_man.pdf(m_data['w'])*p_h_man.pdf(m_data['h'])*p_f_man.pdf(m_data['f'])\n",
    "likelihood_woman = p_w_woman.pdf(w_data['w'])*p_h_woman.pdf(w_data['h'])*p_f_woman.pdf(w_data['f'])\n",
    "likelihood_man "
   ]
  },
  {
   "cell_type": "markdown",
   "metadata": {},
   "source": [
    "### 2.d Computes posterior probabilities $p(man|w,h,f)$ and $p(woman|w,h,f)$ ###\n",
    "\n",
    "Remember that $$p(man|w,h,f) = \\frac{p(man)*likelihood_{man}}{evidence}$$\n",
    "\n",
    "where $$ likelihood_{man} = p(w,h,f|man) $$\n",
    "and $$ evidence = p(man)*likelihood_{man} + p(woman)*likelihood_{woman} $$"
   ]
  },
  {
   "cell_type": "code",
   "execution_count": 16,
   "metadata": {},
   "outputs": [
    {
     "name": "stdout",
     "output_type": "stream",
     "text": [
      "0.27591021542567085 0.3678802872342278\n",
      "I guess your are a woman with proba: 36.78802872342278%\n"
     ]
    }
   ],
   "source": [
    "## Computes posterior probability for m_data\n",
    "\n",
    "evidence =  p_man*likelihood_man + p_woman*likelihood_woman\n",
    "posterior_m = (p_man*likelihood_man)/evidence\n",
    "posterior_w = (p_woman*likelihood_man)/evidence\n",
    "\n",
    "\n",
    "print(posterior_m, posterior_w)\n",
    "if posterior_m > posterior_w:\n",
    "    print(f\"I guess your are a man with proba: {posterior_m*100}%\")\n",
    "else:\n",
    "    print(f\"I guess your are a woman with proba: {posterior_w*100}%\")"
   ]
  },
  {
   "cell_type": "markdown",
   "metadata": {},
   "source": [
    "## Use Scikit-Learn to do the same ##\n",
    "Idea is here to use a library to do the same classification to avoid all computation by hand.\n",
    "\n",
    "Use sklearn.naive_bayes.GaussianNB, use df.values to have numpy array."
   ]
  },
  {
   "cell_type": "code",
   "execution_count": 17,
   "metadata": {},
   "outputs": [
    {
     "data": {
      "text/plain": [
       "GaussianNB()"
      ]
     },
     "execution_count": 17,
     "metadata": {},
     "output_type": "execute_result"
    }
   ],
   "source": [
    "from sklearn.naive_bayes import GaussianNB\n",
    "clf = GaussianNB()\n",
    "\n",
    "Y = np.array([1, 1, 1, 2, 2, 2])\n",
    "Y\n",
    "X = np.array([[-1, -1], [-2, -1], [-3, -2], [1, 1], [2, 1], [3, 2]])\n",
    "X.shape\n",
    "Y.shape\n",
    "clf.fit(X,Y)"
   ]
  },
  {
   "cell_type": "code",
   "execution_count": 84,
   "metadata": {},
   "outputs": [
    {
     "data": {
      "text/plain": [
       "array([1, 2, 2, 2, 2, 2, 1, 1, 1, 1, 2, 1, 1, 2, 1, 1, 2, 2, 2, 2, 2, 2,\n",
       "       2, 2, 1, 1, 2, 2, 1, 2, 2, 2, 1, 1, 1])"
      ]
     },
     "execution_count": 84,
     "metadata": {},
     "output_type": "execute_result"
    }
   ],
   "source": [
    "## Define a classifier clf that is a GaussianNB\n",
    "\n",
    "## extract from your input dataframe X, and Y that are mandatory to your classifier.\n",
    "## For X, you need to create in your dataframe an extra column with value 1 for Man and 2 for woman\n",
    "## Y is built on Weight, Height, Foot columns of the dataframe\n",
    "\n",
    "from sklearn.naive_bayes import GaussianNB\n",
    "clf = GaussianNB()\n",
    "df['Gender'] = np.array([1 if i=='Man' else 2 for i in df['Kind']])\n",
    "X =  df[['Weight','Height','Foot']].values \n",
    "\n",
    "#df['gender'] = np.where(df['Kind']=='Man', 1,2)\n",
    "Y = df['Gender'].values\n",
    "clf.fit(X,Y)\n",
    "Y"
   ]
  },
  {
   "cell_type": "markdown",
   "metadata": {},
   "source": [
    "Then we test that we obtain the same results for class definitions as the ones calculated by hand\n",
    "(compare with result obtained in 2.a)"
   ]
  },
  {
   "cell_type": "code",
   "execution_count": 77,
   "metadata": {},
   "outputs": [
    {
     "name": "stdout",
     "output_type": "stream",
     "text": [
      "[0.42857143 0.57142857]\n",
      "[[ 79.78651701 171.58776499  42.72162534]\n",
      " [ 59.89856644 165.31161681  39.20919681]]\n",
      "[[14.55091101 12.74110727  2.049736  ]\n",
      " [ 6.71682304  8.7076052   1.82768408]]\n"
     ]
    }
   ],
   "source": [
    "print(clf.class_prior_) \n",
    "print(clf.theta_)\n",
    "print(np.sqrt(clf.sigma_))"
   ]
  },
  {
   "cell_type": "markdown",
   "metadata": {},
   "source": [
    "Using your classifier **clf** compute again gender predicted by our classifier on extra data"
   ]
  },
  {
   "cell_type": "code",
   "execution_count": 78,
   "metadata": {},
   "outputs": [
    {
     "data": {
      "text/plain": [
       "[[80, 188, 43]]"
      ]
     },
     "execution_count": 78,
     "metadata": {},
     "output_type": "execute_result"
    }
   ],
   "source": [
    "m_data = { \"w\" :80, \"h\" : 188, \"f\" : 43  } # I am a man\n",
    "w_data = { \"w\": 50, \"h\" : 172, \"f\" : 40 } # I am a woman\n",
    "\n",
    "#predict = clf.predict([[50,172,40],[ 50, 172, 40]])\n",
    "predict = clf.predict([[m_data['w'],m_data['h'], m_data['f']],[w_data['w'],w_data['h'],w_data['f']]])\n",
    "predict\n",
    "a = [[m_data['w'],m_data['h'], m_data['f']],[w_data['w'],w_data['h'],w_data['f']]]\n",
    "b = [[m_data['w'],m_data['h'], m_data['f']]]\n",
    "b"
   ]
  },
  {
   "cell_type": "markdown",
   "metadata": {},
   "source": [
    "Then use classifier on our X dataset again and see how well it performs by drawing a confustion matrix\n"
   ]
  },
  {
   "cell_type": "code",
   "execution_count": 79,
   "metadata": {},
   "outputs": [
    {
     "name": "stdout",
     "output_type": "stream",
     "text": [
      "[1 2 2 2 2 2 1 1 1 1 2 1 1 2 1 1 2 2 2 2 2 2 2 2 1 1 2 2 1 2 2 2 1 1 1]\n",
      "[1 2 2 1 2 2 1 1 1 1 2 1 1 2 1 1 2 2 2 2 2 2 2 2 1 1 2 2 1 2 2 1 1 1 1]\n"
     ]
    }
   ],
   "source": [
    "\n",
    "## Computes prediction Y_predicted using classifier clf\n",
    "Y_predicted = clf.predict(X)\n",
    "\n",
    "#print Y and the one predicted for direct comparaison.\n",
    "print(Y)\n",
    "print(Y_predicted)\n"
   ]
  },
  {
   "cell_type": "code",
   "execution_count": 66,
   "metadata": {},
   "outputs": [],
   "source": [
    "from sklearn.metrics import confusion_matrix\n",
    "import itertools\n",
    "\n",
    "def plot_confusion_matrix(cm, classes,\n",
    "                          normalize=False,\n",
    "                          title='Confusion matrix',\n",
    "                          cmap=plt.cm.Blues):\n",
    "    \"\"\"\n",
    "    This function prints and plots the confusion matrix.\n",
    "    Normalization can be applied by setting `normalize=True`.\n",
    "    \"\"\"\n",
    "    if normalize:\n",
    "        cm = cm.astype('float') / cm.sum(axis=1)[:, np.newaxis]\n",
    "        print(\"Normalized confusion matrix\")\n",
    "    else:\n",
    "        print('Confusion matrix, without normalization')\n",
    "\n",
    "    plt.figure(figsize=(10,10))\n",
    "    plt.imshow(cm, interpolation='nearest', cmap=cmap)\n",
    "    plt.title(title)\n",
    "    plt.colorbar()\n",
    "    tick_marks = np.arange(len(classes))\n",
    "    plt.xticks(tick_marks, classes, rotation=45)\n",
    "    plt.yticks(tick_marks, classes)\n",
    "\n",
    "    fmt = '.2f' if normalize else 'd'\n",
    "    thresh = cm.max() / 2.\n",
    "    for i, j in itertools.product(range(cm.shape[0]), range(cm.shape[1])):\n",
    "        plt.text(j, i, format(cm[i, j], fmt),\n",
    "                 horizontalalignment=\"center\",\n",
    "                 color=\"white\" if cm[i, j] > thresh else \"black\")\n",
    "\n",
    "    plt.ylabel('True label')\n",
    "    plt.xlabel('Predicted label')\n",
    "    plt.tight_layout()\n",
    "\n",
    "\n"
   ]
  },
  {
   "cell_type": "code",
   "execution_count": 86,
   "metadata": {},
   "outputs": [
    {
     "name": "stdout",
     "output_type": "stream",
     "text": [
      "Confusion matrix, without normalization\n"
     ]
    },
    {
     "data": {
      "image/png": "[encoded data removed]",
      "text/plain": [
       "<Figure size 720x720 with 2 Axes>"
      ]
     },
     "metadata": {
      "needs_background": "light"
     },
     "output_type": "display_data"
    }
   ],
   "source": [
    "##Your Code Here\n",
    "from sklearn.metrics import confusion_matrix\n",
    "from sklearn.metrics import confusion_matrix\n",
    "\n",
    "class_names = ['Man', 'Woman' ]\n",
    "confusion = confusion_matrix(Y_predicted, Y)\n",
    "\n",
    "class_names = ['Man', 'Woman' ]\n",
    "plot_confusion_matrix(confusion, classes=class_names)"
   ]
  },
  {
   "cell_type": "code",
   "execution_count": null,
   "metadata": {},
   "outputs": [],
   "source": []
  }
 ],
 "metadata": {
  "kernelspec": {
   "display_name": "Python 3",
   "language": "python",
   "name": "python3"
  },
  "language_info": {
   "codemirror_mode": {
    "name": "ipython",
    "version": 3
   },
   "file_extension": ".py",
   "mimetype": "text/x-python",
   "name": "python",
   "nbconvert_exporter": "python",
   "pygments_lexer": "ipython3",
   "version": "3.8.8"
  }
 },
 "nbformat": 4,
 "nbformat_minor": 4
}
