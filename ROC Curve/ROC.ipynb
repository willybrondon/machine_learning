{
 "cells": [
  {
   "cell_type": "markdown",
   "metadata": {},
   "source": [
    "# Receiver Operating Characteristic (ROC Curve) #\n",
    "\n",
    "ROC is a plot signal (True Positive Rate) against noise (False Positive Rate). The model performance is determined by looking at the area under the ROC curve ( or AUC = Area Under The Curve )"
   ]
  },
  {
   "cell_type": "markdown",
   "metadata": {},
   "source": [
    "## How to construct ROC curve ##"
   ]
  },
  {
   "cell_type": "markdown",
   "metadata": {},
   "source": [
    "### 1. import the data ###"
   ]
  },
  {
   "cell_type": "code",
   "execution_count": 30,
   "metadata": {},
   "outputs": [
    {
     "name": "stdout",
     "output_type": "stream",
     "text": [
      "         A          B\n",
      "0  Healthy  13.203864\n",
      "1  Healthy   4.457589\n",
      "2  Healthy  19.404121\n",
      "3     Sick   4.530985\n",
      "4  Healthy  10.433462\n"
     ]
    }
   ],
   "source": [
    "import numpy as np\n",
    "import matplotlib.pyplot as plt\n",
    "import pandas as pd\n",
    "\n",
    "df = pd.read_csv('Data/health_sick.csv')\n",
    "print(df.head())\n",
    "def offset_healthy(df, offset):\n",
    "    mask = df.A=='Healthy'\n",
    "    df.loc[mask, 'B']=df.loc[mask, 'B'] + offset\n",
    "offset_healthy(df,12)"
   ]
  },
  {
   "cell_type": "markdown",
   "metadata": {},
   "source": [
    "### 2. Verify how much Sick and Healthy people are in the database ###"
   ]
  },
  {
   "cell_type": "markdown",
   "metadata": {},
   "source": [
    "### 3. Plot concentration values in a scatter plot with healthy(sick) people in green(red) ###"
   ]
  },
  {
   "cell_type": "markdown",
   "metadata": {},
   "source": [
    "### 4. Plot histogram of sick (healhty) people with 10 bins ###"
   ]
  },
  {
   "cell_type": "markdown",
   "metadata": {},
   "source": [
    "### 5. sort dataframe against concentration value ### "
   ]
  },
  {
   "cell_type": "markdown",
   "metadata": {},
   "source": [
    "### 6. Compute ROC point ###\n",
    "1. defines a threshold an create a series with predicted values\n",
    "1. Computes the confustion matrix, put True positive, True Negative, False Positive, and False Negative in variables\n",
    "1. Computes the False Positive Ratio, and the True Positive Ratio\n",
    "1. test it for different threshold\n",
    "1. Think of way to plot the ROC curve"
   ]
  },
  {
   "cell_type": "code",
   "execution_count": 20,
   "metadata": {},
   "outputs": [
    {
     "data": {
      "text/plain": [
       "(81, 159)"
      ]
     },
     "execution_count": 20,
     "metadata": {},
     "output_type": "execute_result"
    }
   ],
   "source": [
    "# verifying how much sick or healthy people are in the database\n",
    "n_sick= df[df['A']=='Sick']['A'].count()\n",
    "n_healthy = df[df['A']=='Healthy']['A'].count()\n",
    "n_sick\n",
    "total = n_sick + n_healthy\n",
    "n_sick, n_healthy"
   ]
  },
  {
   "cell_type": "code",
   "execution_count": 39,
   "metadata": {},
   "outputs": [
    {
     "data": {
      "text/plain": [
       "<matplotlib.lines.Line2D at 0x2389a395fd0>"
      ]
     },
     "execution_count": 39,
     "metadata": {},
     "output_type": "execute_result"
    },
    {
     "data": {
      "image/png": "[encoded data removed]",
      "text/plain": [
       "<Figure size 432x288 with 1 Axes>"
      ]
     },
     "metadata": {
      "needs_background": "light"
     },
     "output_type": "display_data"
    }
   ],
   "source": [
    "\n",
    "cs = ['red' if i ==\"Sick\" else 'blue' for i in df['A']]\n",
    "plt.scatter(df['A'], df['B'], color = cs)\n",
    "\n",
    "plt.axhline(y =10)"
   ]
  },
  {
   "cell_type": "markdown",
   "metadata": {},
   "source": [
    "## 4. Plot histogram of sick (healhty) people with 10 bins"
   ]
  },
  {
   "cell_type": "code",
   "execution_count": 28,
   "metadata": {},
   "outputs": [
    {
     "data": {
      "text/plain": [
       "array([[<AxesSubplot:title={'center':'B'}>]], dtype=object)"
      ]
     },
     "execution_count": 28,
     "metadata": {},
     "output_type": "execute_result"
    },
    {
     "data": {
      "image/png": "[encoded data removed]",
      "text/plain": [
       "<Figure size 432x288 with 1 Axes>"
      ]
     },
     "metadata": {
      "needs_background": "light"
     },
     "output_type": "display_data"
    }
   ],
   "source": [
    "df[df.A=='Sick'].hist(bins =10)"
   ]
  },
  {
   "cell_type": "markdown",
   "metadata": {},
   "source": [
    "# 5. sort dataframe against concentration value"
   ]
  },
  {
   "cell_type": "code",
   "execution_count": 36,
   "metadata": {},
   "outputs": [],
   "source": [
    "df_sort = df.sort_values(by='B')"
   ]
  },
  {
   "cell_type": "markdown",
   "metadata": {},
   "source": [
    "# 6. Compute ROC point"
   ]
  },
  {
   "cell_type": "code",
   "execution_count": 43,
   "metadata": {},
   "outputs": [],
   "source": [
    "from sklearn.metrics import confusion_matrix\n",
    "def predictor(df_sort, threshold):\n",
    "        p=['Sick' if x < threshold else 'Healthy' for x in df_sort['B']]\n",
    "        return p\n",
    "    \n",
    "threshold = 10\n",
    "p = predictor(df_sort, threshold)\n",
    "confusion = confusion_matrix( p, df_sort['A'], labels = ['Healthy', 'Sick'])\n",
    "TP = confusion[0,0]\n",
    "FP = confusion[0,1]\n",
    "FN = confusion[1,0]\n",
    "TN = confusion[1,1]\n",
    "FPF = FP/(FP+TN)\n",
    "TPF = TP/(TP+FN)"
   ]
  },
  {
   "cell_type": "code",
   "execution_count": null,
   "metadata": {},
   "outputs": [],
   "source": []
  }
 ],
 "metadata": {
  "kernelspec": {
   "display_name": "Python 3",
   "language": "python",
   "name": "python3"
  },
  "language_info": {
   "codemirror_mode": {
    "name": "ipython",
    "version": 3
   },
   "file_extension": ".py",
   "mimetype": "text/x-python",
   "name": "python",
   "nbconvert_exporter": "python",
   "pygments_lexer": "ipython3",
   "version": "3.8.8"
  }
 },
 "nbformat": 4,
 "nbformat_minor": 2
}
